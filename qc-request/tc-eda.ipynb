{
 "cells": [
  {
   "cell_type": "code",
   "execution_count": 123,
   "metadata": {},
   "outputs": [
    {
     "data": {
      "text/plain": [
       "'20250331'"
      ]
     },
     "execution_count": 123,
     "metadata": {},
     "output_type": "execute_result"
    }
   ],
   "source": [
    "import numpy as np\n",
    "import pandas as pd\n",
    "from datetime import datetime\n",
    "\n",
    "today = datetime.today().replace(hour=0, minute=0, second=0, microsecond=0).strftime(\"%Y%m%d\")\n",
    "today"
   ]
  },
  {
   "cell_type": "markdown",
   "metadata": {},
   "source": [
    "## Processing raw dataframe"
   ]
  },
  {
   "cell_type": "code",
   "execution_count": 162,
   "metadata": {},
   "outputs": [
    {
     "data": {
      "application/vnd.microsoft.datawrangler.viewer.v0+json": {
       "columns": [
        {
         "name": "index",
         "rawType": "int64",
         "type": "integer"
        },
        {
         "name": "Region/Category",
         "rawType": "object",
         "type": "string"
        },
        {
         "name": "중분류",
         "rawType": "object",
         "type": "string"
        },
        {
         "name": "소분류",
         "rawType": "object",
         "type": "unknown"
        },
        {
         "name": "사전조건",
         "rawType": "object",
         "type": "string"
        },
        {
         "name": "테스트 항목",
         "rawType": "object",
         "type": "string"
        },
        {
         "name": "테스트 스텝",
         "rawType": "object",
         "type": "string"
        },
        {
         "name": "기대결과",
         "rawType": "object",
         "type": "string"
        }
       ],
       "conversionMethod": "pd.DataFrame",
       "ref": "d4f2a8c9-3ef4-42a4-b91a-72df04eafcff",
       "rows": [
        [
         "8",
         "All Regions",
         "Sign in",
         "0",
         "1. KOCOWA Webpage 진입\n2. 미로그인 상태",
         "Sign in 기능 확인",
         "Sign in 시도",
         "Sign in 진행된다"
        ],
        [
         "9",
         "All Regions",
         "Sign Up",
         "0",
         "1. KOCOWA Webpage 진입\n2. 미로그인 상태",
         "Sign up 기능 확인",
         "Sign up 시도",
         "Sign up 진행된다"
        ],
        [
         "10",
         "All Regions",
         "Sign Out",
         "0",
         "1. KOCOWA Webpage 진입\n2. 로그인 상태",
         "Sign out 기능 확인",
         "Sign out 시도",
         "Sign out 진행된다"
        ],
        [
         "11",
         "All Regions",
         "Sign Out",
         "0",
         "1. KOCOWA App 실행\n2. Sign In\n3. Sign Out",
         "재로그인 가능 확인",
         "해당 계정으로 Sign In",
         "Sign in 진행된다"
        ],
        [
         "12",
         "All Regions",
         "Find Password",
         "0",
         "1. KOCOWA Webpage 진입\n2. Sign in page 진입\n3. Find Password button 선택\n4. 가입 이력이 있는 Email 입력",
         "Find Password 기능 확인",
         "Find Password 시도",
         "Reset Password 이메일 수신된다"
        ],
        [
         "13",
         "All Regions",
         "Social Sign in",
         "Facebook",
         "1. KOCOWA Webpage 진입\n2. Sign in Page 진입",
         "Social Sign in 기능 확인",
         "Facebook Social Sign in 시도",
         "Facebook 계정으로 Sign in 진행된다"
        ],
        [
         "14",
         "All Regions",
         "Social Sign up",
         "Facebook",
         "1. KOCOWA Webpage 진입\n2. Sign up Page 진입\n3. 가입 이력 없는 Facebook 계정 보유한 상태",
         "Social Sign up 기능 확인",
         "Facebook Social Sign up 시도",
         "Facebook 계정으로 Sign up 진행된다"
        ],
        [
         "15",
         "All Regions",
         "Social Sign in",
         "Google",
         "1. KOCOWA Webpage 진입\n2. Sign in Page 진입",
         "Social Sign in 기능 확인",
         "Google Social Sign in 시도",
         "Google 계정으로 Sign in 진행된다"
        ],
        [
         "16",
         "All Regions",
         "Social Sign up",
         "Google",
         "1. KOCOWA Webpage 진입\n2. Sign up Page 진입\n3. 가입 이력 없는 Google 계정 보유한 상태",
         "Social Sign up 기능 확인",
         "Google Social Sign up 시도",
         "Google 계정으로 Sign up 진행된다"
        ],
        [
         "17",
         "All Regions",
         "Social Sign in",
         "Apple",
         "1. KOCOWA Webpage 진입\n2. Sign in Page 진입",
         "Social Sign in 기능 확인",
         "Apple Social Sign in 시도",
         "Apple 계정으로 Sign in 진행된다"
        ],
        [
         "18",
         "All Regions",
         "Social Sign up",
         "Apple",
         "1. KOCOWA Webpage 진입\n2. Sign up Page 진입\n3. 가입 이력 없는 Apple 계정 보유한 상태",
         "Social Sign up 기능 확인",
         "Apple Social Sign up 시도",
         "Apple 계정으로 Sign up 진행된다"
        ],
        [
         "19",
         "All Regions",
         "Social Sign in",
         "ODK",
         "1. KOCOWA Webpage 진입\n2. Sign in Page 진입",
         "Social Sign in 기능 확인",
         "ODK Social Sign in 시도",
         "ODK 계정으로 Sign in 진행된다"
        ],
        [
         "20",
         "All Regions",
         "Social Sign up",
         "ODK",
         "1. KOCOWA Webpage 진입\n2. Sign up Page 진입\n3. 가입 이력 없는 ODK 계정 보유한 상태",
         "Social Sign up 기능 확인",
         "ODK Social Sign up 시도",
         "ODK 계정으로 Sign up 진행된다"
        ],
        [
         "21",
         "All Regions",
         "Multi Profile Page",
         "Add Profile",
         "1. KOCOWA Webpage 진입\n2. Premium 계정 Sign in\n3. Add Profile button 선택",
         "Add Profile 기능 확인",
         "Add Profile 시도",
         "Profile 추가된다"
        ],
        [
         "22",
         "All Regions",
         "Multi Profile Page",
         "Edit Profile",
         "1. KOCOWA Webpage 진입\n2. Sign in\n3. Edit Profile button 선택\n4. 기존과 다른 정보 입력",
         "Edit Profile 기능 확인",
         "Edit Profile 시도",
         "Profile 수정된다"
        ],
        [
         "23",
         "All Regions",
         "Multi Profile Page",
         "Delete Profile",
         "1. KOCOWA Webpage 진입\n2. Premium 계정 Sign in\n3. Edit Profile button 선택",
         "Delete Profile 기능 확인",
         "Delete Profile button 선택",
         "Profile 삭제된다"
        ],
        [
         "24",
         "All Regions",
         "Multi Profile Page",
         "Profile Change",
         "1. KOCOWA Webpage 진입\n2. Premium 계정 Sign in\n3. A Profile 로 진입\n4. 다른 프로필이 있는 상태\n5. Profile Change 진입",
         "Profile Change 기능 확인",
         "B Profile 로 진입",
         "B Profile 로 진입된다."
        ],
        [
         "25",
         "All Regions",
         "Multi Profile Page",
         "PIN Locked",
         "1. KOCOWA Webpage 진입\n2. Premium 계정 Sign in\n3. PIN Locked을 설정한 프로필 진입",
         "PIN Locked 기능 확인",
         "설정한 PIN 번호 입력",
         "Profile 로 진입된다."
        ],
        [
         "26",
         "All Regions",
         "Home",
         "Language Setting",
         "1. KOCOWA Webpage 진입\n2. Premium 계정 Sign in\n3. Language Setting 변경 버튼 선택",
         "Language Setting 기능 확인",
         "설정한 언어 외 다른 언어로 설정",
         "해당 언어로 페이지가 노출된다."
        ],
        [
         "36",
         "All Regions",
         "Content Playble",
         "0",
         "1. KOCOWA APP 실행\n2. AVOD 계정 Sign in\n3. Player Page 진입",
         "AVOD 상태 시 KOBACO Bumper 노출 확인",
         "Bumper Video 종료",
         "KOBACO Bumper Video 노출된다"
        ],
        [
         "37",
         "All Regions",
         "Content Playble",
         "0",
         "1. KOCOWA APP 실행\n2. Basic 결제 계정 Sign in\n3. Player Page 진입",
         "Basic 결제 상태 시 KOBACO Bumper 노출 확인",
         "Bumper Video 종료",
         "KOBACO Bumper Video 노출된다"
        ],
        [
         "38",
         "All Regions",
         "Content Playble",
         "KOBACO Policy",
         "1. KOCOWA App 실행\n2. AVOD 계정 Sign in\n3. Player Page 진입\n4. US VPN Setting 상태",
         "US VPN 연결 시 KOBACO Bumper 노출 확인",
         "Bumper Video 종료",
         "KOBACO Bumper Video 노출된다"
        ],
        [
         "39",
         "All Regions",
         "Content Playble",
         "KOBACO Policy",
         "1. KOCOWA App 실행\n2. AVOD 계정 Sign in\n3. Player Page 진입\n4. US 이외의 VPN Setting 상태",
         "US 이외 VPN 연결 시 KOBACO Bumper 노출 여부 확인",
         "Bumper Video 종료",
         "KOBACO Bumper Video 노출되지 않는다"
        ],
        [
         "49",
         "All Regions",
         "KOAS",
         "0",
         "1. KOCOWA APP 실행\n2. Sign in\n3. Content 재생",
         "Content 재생 시 User Tracking 동작 확인",
         "User Tracking log 노출 확인",
         "User Tracking log 노출된다"
        ],
        [
         "50",
         "All Regions",
         "KOAS",
         "SSO",
         "1. KOCOWA APP 실행\n2. SSO로 Sign in\n3. Content 재생",
         "Content 재생 시 User Tracking 동작 확인",
         "User Tracking log 노출 확인",
         "User Tracking log 노출된다"
        ],
        [
         "51",
         "All Regions",
         "KOAS",
         "Profile Change",
         "1. KOCOWA APP 실행\n2. 결제 계정 Sign in\n3. 프로필 변경\n4. Content 재생",
         "프로필 변경 후 Content 재생 시 User Tracking 동작 확인",
         "User Tracking log 노출 확인",
         "User Tracking log 노출된다"
        ],
        [
         "142",
         "All Regions",
         "PLAN Page",
         "Basic Monthly",
         "1. PLAN page 진입",
         "Basic Monthly item 노출 확인",
         "Basic Monthly item 노출 확인",
         "Basic Monthly item 노출된다"
        ],
        [
         "143",
         "All Regions",
         "PLAN Page",
         "Basic Monthly",
         "1. PLAN page 진입",
         "통화 코드 확인",
         "통화 코드 노출 확인",
         "통화 코드 노출된다"
        ],
        [
         "144",
         "All Regions",
         "PLAN Page",
         "Basic Monthly",
         "1. PLAN page 진입",
         "Subscription Price 확인",
         "Subscription Price 노출 확인",
         "Subscription Price 노출된다"
        ],
        [
         "145",
         "All Regions",
         "PLAN Page",
         "Basic Monthly",
         "1. PLAN page 진입",
         "통화 기호 확인",
         "통화 기호 노출 확인",
         "통화 기호 노출된다"
        ],
        [
         "146",
         "All Regions",
         "PLAN Page",
         "Basic Monthly",
         "1. PLAN page 진입\n2. Sign in\n3. 미결제 계정인 상태",
         "Basic Monthly item 선택 시 기능 확인",
         "Basic Monthly item 선택",
         "Checkout page 진입된다"
        ],
        [
         "147",
         "All Regions",
         "PLAN Page",
         "Basic Annual",
         "1. PLAN page 진입",
         "Basic Annual item 노출 확인",
         "Basic Annual item 노출 확인",
         "Basic Annual item 노출된다"
        ],
        [
         "148",
         "All Regions",
         "PLAN Page",
         "Basic Annual",
         "1. PLAN page 진입",
         "통화 코드 확인",
         "통화 코드 노출 확인",
         "통화 코드 노출된다"
        ],
        [
         "149",
         "All Regions",
         "PLAN Page",
         "Basic Annual",
         "1. PLAN page 진입",
         "Subscription Price 확인",
         "Subscription Price 노출 확인",
         "Subscription Price 노출된다"
        ],
        [
         "150",
         "All Regions",
         "PLAN Page",
         "Basic Annual",
         "1. PLAN page 진입",
         "통화 기호 확인",
         "통화 기호 노출 확인",
         "통화 기호 노출된다"
        ],
        [
         "151",
         "All Regions",
         "PLAN Page",
         "Basic Annual",
         "1. PLAN page 진입\n2. Sign in\n3. 미결제 계정인 상태",
         "Basic Annual item 선택 시 기능 확인",
         "Basic Annual item 선택",
         "Checkout page 진입된다"
        ],
        [
         "152",
         "All Regions",
         "PLAN Page",
         "Premium Monthly",
         "1. PLAN page 진입",
         "Premium Monthly item 노출 확인",
         "Premium Monthly item 노출 확인",
         "Premium Monthly item 노출된다"
        ],
        [
         "153",
         "All Regions",
         "PLAN Page",
         "Premium Monthly",
         "1. PLAN page 진입",
         "통화 코드 확인",
         "통화 코드 노출 확인",
         "통화 코드 노출된다"
        ],
        [
         "154",
         "All Regions",
         "PLAN Page",
         "Premium Monthly",
         "1. PLAN page 진입",
         "Subscription Price 확인",
         "Subscription Price 노출 확인",
         "Subscription Price 노출된다"
        ],
        [
         "155",
         "All Regions",
         "PLAN Page",
         "Premium Monthly",
         "1. PLAN page 진입",
         "통화 기호 확인",
         "통화 기호 노출 확인",
         "통화 기호 노출된다"
        ],
        [
         "156",
         "All Regions",
         "PLAN Page",
         "Premium Monthly",
         "1. PLAN page 진입\n2. Sign in\n3. 미결제 계정인 상태",
         "Premium Monthly item 선택 시 기능 확인",
         "Premium Monthly item 선택",
         "Checkout page 진입된다"
        ],
        [
         "157",
         "All Regions",
         "PLAN Page",
         "Premium Annual",
         "1. PLAN page 진입",
         "Premium Annual item 노출 확인",
         "Premium Annual item 노출 확인",
         "Premium Annual item 노출된다"
        ],
        [
         "158",
         "All Regions",
         "PLAN Page",
         "Premium Annual",
         "1. PLAN page 진입",
         "통화 코드 확인",
         "통화 코드 노출 확인",
         "통화 코드 노출된다"
        ],
        [
         "159",
         "All Regions",
         "PLAN Page",
         "Premium Annual",
         "1. PLAN page 진입",
         "Subscription Price 확인",
         "Subscription Price 노출 확인",
         "Subscription Price 노출된다"
        ],
        [
         "160",
         "All Regions",
         "PLAN Page",
         "Premium Annual",
         "1. PLAN page 진입",
         "통화 기호 확인",
         "통화 기호 노출 확인",
         "통화 기호 노출된다"
        ],
        [
         "161",
         "All Regions",
         "PLAN Page",
         "Premium Annual",
         "1. PLAN page 진입\n2. Sign in\n3. 미결제 계정인 상태",
         "Premium Annual item 선택 시 기능 확인",
         "Premium Annual item 선택",
         "Checkout page 진입된다"
        ],
        [
         "162",
         "Brazil",
         "PLAN Page",
         "Basic Month Single Pass",
         "1. PLAN page 진입",
         "Basic Month Single Pass item 노출 확인",
         "Basic Month Single Pass item 노출 확인",
         "Basic Month Single Pass item 노출된다"
        ],
        [
         "163",
         "Brazil",
         "PLAN Page",
         "Basic Month Single Pass",
         "1. PLAN page 진입",
         "통화 코드 확인",
         "통화 코드 노출 확인",
         "통화 코드 노출된다"
        ],
        [
         "164",
         "Brazil",
         "PLAN Page",
         "Basic Month Single Pass",
         "1. PLAN page 진입",
         "Subscription Price 확인",
         "Subscription Price 노출 확인",
         "Subscription Price 노출된다"
        ],
        [
         "165",
         "Brazil",
         "PLAN Page",
         "Basic Month Single Pass",
         "1. PLAN page 진입",
         "통화 기호 확인",
         "통화 기호 노출 확인",
         "통화 기호 노출된다"
        ]
       ],
       "shape": {
        "columns": 7,
        "rows": 365
       }
      },
      "text/html": [
       "<div>\n",
       "<style scoped>\n",
       "    .dataframe tbody tr th:only-of-type {\n",
       "        vertical-align: middle;\n",
       "    }\n",
       "\n",
       "    .dataframe tbody tr th {\n",
       "        vertical-align: top;\n",
       "    }\n",
       "\n",
       "    .dataframe thead th {\n",
       "        text-align: right;\n",
       "    }\n",
       "</style>\n",
       "<table border=\"1\" class=\"dataframe\">\n",
       "  <thead>\n",
       "    <tr style=\"text-align: right;\">\n",
       "      <th></th>\n",
       "      <th>Region/Category</th>\n",
       "      <th>중분류</th>\n",
       "      <th>소분류</th>\n",
       "      <th>사전조건</th>\n",
       "      <th>테스트 항목</th>\n",
       "      <th>테스트 스텝</th>\n",
       "      <th>기대결과</th>\n",
       "    </tr>\n",
       "  </thead>\n",
       "  <tbody>\n",
       "    <tr>\n",
       "      <th>8</th>\n",
       "      <td>All Regions</td>\n",
       "      <td>Sign in</td>\n",
       "      <td>0</td>\n",
       "      <td>1. KOCOWA Webpage 진입\\n2. 미로그인 상태</td>\n",
       "      <td>Sign in 기능 확인</td>\n",
       "      <td>Sign in 시도</td>\n",
       "      <td>Sign in 진행된다</td>\n",
       "    </tr>\n",
       "    <tr>\n",
       "      <th>9</th>\n",
       "      <td>All Regions</td>\n",
       "      <td>Sign Up</td>\n",
       "      <td>0</td>\n",
       "      <td>1. KOCOWA Webpage 진입\\n2. 미로그인 상태</td>\n",
       "      <td>Sign up 기능 확인</td>\n",
       "      <td>Sign up 시도</td>\n",
       "      <td>Sign up 진행된다</td>\n",
       "    </tr>\n",
       "    <tr>\n",
       "      <th>10</th>\n",
       "      <td>All Regions</td>\n",
       "      <td>Sign Out</td>\n",
       "      <td>0</td>\n",
       "      <td>1. KOCOWA Webpage 진입\\n2. 로그인 상태</td>\n",
       "      <td>Sign out 기능 확인</td>\n",
       "      <td>Sign out 시도</td>\n",
       "      <td>Sign out 진행된다</td>\n",
       "    </tr>\n",
       "    <tr>\n",
       "      <th>11</th>\n",
       "      <td>All Regions</td>\n",
       "      <td>Sign Out</td>\n",
       "      <td>0</td>\n",
       "      <td>1. KOCOWA App 실행\\n2. Sign In\\n3. Sign Out</td>\n",
       "      <td>재로그인 가능 확인</td>\n",
       "      <td>해당 계정으로 Sign In</td>\n",
       "      <td>Sign in 진행된다</td>\n",
       "    </tr>\n",
       "    <tr>\n",
       "      <th>12</th>\n",
       "      <td>All Regions</td>\n",
       "      <td>Find Password</td>\n",
       "      <td>0</td>\n",
       "      <td>1. KOCOWA Webpage 진입\\n2. Sign in page 진입\\n3. F...</td>\n",
       "      <td>Find Password 기능 확인</td>\n",
       "      <td>Find Password 시도</td>\n",
       "      <td>Reset Password 이메일 수신된다</td>\n",
       "    </tr>\n",
       "    <tr>\n",
       "      <th>...</th>\n",
       "      <td>...</td>\n",
       "      <td>...</td>\n",
       "      <td>...</td>\n",
       "      <td>...</td>\n",
       "      <td>...</td>\n",
       "      <td>...</td>\n",
       "      <td>...</td>\n",
       "    </tr>\n",
       "    <tr>\n",
       "      <th>2104</th>\n",
       "      <td>All Regions</td>\n",
       "      <td>Resume PLAN</td>\n",
       "      <td>Premium Monthly</td>\n",
       "      <td>1. PLAN Page 진입\\n2. Premium Monthly item 결제\\n3...</td>\n",
       "      <td>구독 갱신 일자 노출 확인</td>\n",
       "      <td>구독 갱신 일자 노출 확인</td>\n",
       "      <td>[MM/DD/YYYY, HH:MM] [AM/PM] [대륙/도시] 노출된다</td>\n",
       "    </tr>\n",
       "    <tr>\n",
       "      <th>2105</th>\n",
       "      <td>All Regions</td>\n",
       "      <td>Resume PLAN</td>\n",
       "      <td>Premium Annual</td>\n",
       "      <td>1. PLAN Page 진입\\n2. Premium Annual item 결제\\n3....</td>\n",
       "      <td>Resume Button 선택 시 기능 확인</td>\n",
       "      <td>Resume Button 선택</td>\n",
       "      <td>구독 재개된다</td>\n",
       "    </tr>\n",
       "    <tr>\n",
       "      <th>2106</th>\n",
       "      <td>All Regions</td>\n",
       "      <td>Resume PLAN</td>\n",
       "      <td>Premium Annual</td>\n",
       "      <td>1. PLAN Page 진입\\n2. Premium Annual item 결제\\n3....</td>\n",
       "      <td>구독 갱신 text 출력 확인</td>\n",
       "      <td>Resume Button 선택</td>\n",
       "      <td>Next Billing Date : text 출력된다</td>\n",
       "    </tr>\n",
       "    <tr>\n",
       "      <th>2107</th>\n",
       "      <td>All Regions</td>\n",
       "      <td>Resume PLAN</td>\n",
       "      <td>Premium Annual</td>\n",
       "      <td>1. PLAN Page 진입\\n2. Premium Annual item 결제\\n3....</td>\n",
       "      <td>구독 갱신 일자 노출 확인</td>\n",
       "      <td>구독 갱신 일자 노출 확인</td>\n",
       "      <td>[MM/DD/YYYY, HH:MM] [AM/PM] [대륙/도시] 노출된다</td>\n",
       "    </tr>\n",
       "    <tr>\n",
       "      <th>2208</th>\n",
       "      <td>All Regions</td>\n",
       "      <td>PLAN Change</td>\n",
       "      <td>Upgrade</td>\n",
       "      <td>1. Plan page 진입\\n2. Plan Upgrade\\n3. Email box 진입</td>\n",
       "      <td>Receipt Email 확인</td>\n",
       "      <td>Plan Update Email 수신 확인</td>\n",
       "      <td>Receipt Email 수신된다</td>\n",
       "    </tr>\n",
       "  </tbody>\n",
       "</table>\n",
       "<p>365 rows × 7 columns</p>\n",
       "</div>"
      ],
      "text/plain": [
       "     Region/Category            중분류              소분류  \\\n",
       "8        All Regions        Sign in                0   \n",
       "9        All Regions        Sign Up                0   \n",
       "10       All Regions       Sign Out                0   \n",
       "11       All Regions       Sign Out                0   \n",
       "12       All Regions  Find Password                0   \n",
       "...              ...            ...              ...   \n",
       "2104     All Regions    Resume PLAN  Premium Monthly   \n",
       "2105     All Regions    Resume PLAN   Premium Annual   \n",
       "2106     All Regions    Resume PLAN   Premium Annual   \n",
       "2107     All Regions    Resume PLAN   Premium Annual   \n",
       "2208     All Regions    PLAN Change          Upgrade   \n",
       "\n",
       "                                                   사전조건  \\\n",
       "8                      1. KOCOWA Webpage 진입\\n2. 미로그인 상태   \n",
       "9                      1. KOCOWA Webpage 진입\\n2. 미로그인 상태   \n",
       "10                      1. KOCOWA Webpage 진입\\n2. 로그인 상태   \n",
       "11            1. KOCOWA App 실행\\n2. Sign In\\n3. Sign Out   \n",
       "12    1. KOCOWA Webpage 진입\\n2. Sign in page 진입\\n3. F...   \n",
       "...                                                 ...   \n",
       "2104  1. PLAN Page 진입\\n2. Premium Monthly item 결제\\n3...   \n",
       "2105  1. PLAN Page 진입\\n2. Premium Annual item 결제\\n3....   \n",
       "2106  1. PLAN Page 진입\\n2. Premium Annual item 결제\\n3....   \n",
       "2107  1. PLAN Page 진입\\n2. Premium Annual item 결제\\n3....   \n",
       "2208  1. Plan page 진입\\n2. Plan Upgrade\\n3. Email box 진입   \n",
       "\n",
       "                        테스트 항목                   테스트 스텝  \\\n",
       "8                Sign in 기능 확인               Sign in 시도   \n",
       "9                Sign up 기능 확인               Sign up 시도   \n",
       "10              Sign out 기능 확인              Sign out 시도   \n",
       "11                  재로그인 가능 확인          해당 계정으로 Sign In   \n",
       "12         Find Password 기능 확인         Find Password 시도   \n",
       "...                        ...                      ...   \n",
       "2104            구독 갱신 일자 노출 확인           구독 갱신 일자 노출 확인   \n",
       "2105  Resume Button 선택 시 기능 확인         Resume Button 선택   \n",
       "2106          구독 갱신 text 출력 확인         Resume Button 선택   \n",
       "2107            구독 갱신 일자 노출 확인           구독 갱신 일자 노출 확인   \n",
       "2208          Receipt Email 확인  Plan Update Email 수신 확인   \n",
       "\n",
       "                                          기대결과  \n",
       "8                                 Sign in 진행된다  \n",
       "9                                 Sign up 진행된다  \n",
       "10                               Sign out 진행된다  \n",
       "11                                Sign in 진행된다  \n",
       "12                     Reset Password 이메일 수신된다  \n",
       "...                                        ...  \n",
       "2104  [MM/DD/YYYY, HH:MM] [AM/PM] [대륙/도시] 노출된다  \n",
       "2105                                   구독 재개된다  \n",
       "2106             Next Billing Date : text 출력된다  \n",
       "2107  [MM/DD/YYYY, HH:MM] [AM/PM] [대륙/도시] 노출된다  \n",
       "2208                        Receipt Email 수신된다  \n",
       "\n",
       "[365 rows x 7 columns]"
      ]
     },
     "execution_count": 162,
     "metadata": {},
     "output_type": "execute_result"
    }
   ],
   "source": [
    "colorder = ['Region/Category', '중분류', '소분류', '사전조건', '테스트 항목', '테스트 스텝', '기대결과']\n",
    "\n",
    "df = pd.read_csv('data/gateway-validation-tc.csv').drop(columns=[\"No.\", \"Purpose\"]).fillna(0)\n",
    "df_billing = df.rename(columns = {'대분류': \"중분류\", '중분류': \"Region/Category\"})[colorder]\n",
    "\n",
    "for index, row in df_billing.iterrows():\n",
    "    # 대분류 0 -> 중분류\n",
    "    if row[\"Region/Category\"] == 0:\n",
    "        replacement = \"All Regions\"\n",
    "        df_billing.at[index, \"Region/Category\"] = replacement\n",
    "    \n",
    "    # Language Settings to be under All Regions\n",
    "    if row[\"Region/Category\"] == \"Language Setting\":\n",
    "        df_billing.at[index, \"소분류\"] = \"Language Setting\"\n",
    "        df_billing.at[index, \"Region/Category\"] = \"All Regions\"\n",
    "    \n",
    "    # if 중분류 == multi profile page, All Regions and move 대분류 -> 소분류\n",
    "    if row[\"중분류\"] == \"Multi Profile Page\":\n",
    "        task = row['Region/Category']\n",
    "        df_billing.at[index, \"소분류\"] = task\n",
    "        df_billing.at[index, 'Region/Category'] = \"All Regions\"\n",
    "        \n",
    "    # if 중분류 == social/sso, All Regions and move 대분류 -> 소분류\n",
    "    if row[\"중분류\"] == \"Social Sign in\" or row[\"중분류\"] == \"Social Sign up\" or row[\"중분류\"] == \"SSO\":\n",
    "        platform = row['Region/Category']\n",
    "        df_billing.at[index, \"소분류\"] = platform\n",
    "        df_billing.at[index, 'Region/Category'] = \"All Regions\"\n",
    "    \n",
    "    # Consolidate PLAN crosses, put them under All Regions, PLAN Cross to 중분류\n",
    "    if row[\"Region/Category\"] == \"PLAN Cross\":\n",
    "        start_plan = row.중분류\n",
    "        end_plan = row.소분류\n",
    "        df_billing.at[index, \"소분류\"] = f\"{start_plan} > {end_plan}\"\n",
    "        df_billing.at[index, \"중분류\"] = \"PLAN Cross\"\n",
    "        df_billing.at[index, \"Region/Category\"] = \"All Regions\"\n",
    "    \n",
    "    # Compile all Plan Changes\n",
    "    if row[\"중분류\"] == \"PLAN Downgrade\":\n",
    "        df_billing.at[index, \"소분류\"] = \"Downgrade\"\n",
    "        df_billing.at[index, \"중분류\"] = \"PLAN Change\"\n",
    "    elif row[\"중분류\"] == \"PLAN Upgrade\":\n",
    "        df_billing.at[index, \"소분류\"] = \"Upgrade\"\n",
    "        df_billing.at[index, \"중분류\"] = \"PLAN Change\"\n",
    "        \n",
    "# df_billing[df_billing[\"Region/Category\"] == \"All Regions\"]\n",
    "df_regional_consolidation = df_billing[~df_billing[\"Region/Category\"].isin([\"US\", \"Argentina\", \"Australia\", \"Spain\", \"United Kingdom\"])]\n",
    "\n",
    "for index, row in df_regional_consolidation.iterrows():\n",
    "    if row[\"소분류\"] not in ['Basic Month Single Pass', 'Basic Annual Single Pass', 'Premium Month Single Pass', 'Premium Annual Single Pass']:\n",
    "        df_regional_consolidation.at[index, \"Region/Category\"] = \"All Regions\"\n",
    "df_regional_consolidation.drop_duplicates()\n"
   ]
  },
  {
   "cell_type": "code",
   "execution_count": 165,
   "metadata": {},
   "outputs": [],
   "source": [
    "# df_billing[~df_billing[\"Region/Category\"].isin([\"US\", \"Argentina\", \"Australia\", \"Spain\", \"United Kingdom\", \"Brazil\"])].sort_values(by=[\"Region/Category\", \"중분류\"])\n",
    "# df_billing[df_billing.중분류 == 0]\n",
    "# df_billing[df_billing[\"중분류\"] == \"PLAN Cross\"]\n",
    "# df_billing[~df_billing[\"Region/Category\"].isin([\"US\", \"Argentina\", \"Australia\", \"Spain\", \"United Kingdom\"])]"
   ]
  },
  {
   "cell_type": "code",
   "execution_count": 155,
   "metadata": {},
   "outputs": [
    {
     "data": {
      "text/plain": [
       "'Count of test cases by region: US-411, Argentina-386, Spain-55, United Kingdom-375, Australia-377, Brazil-493'"
      ]
     },
     "execution_count": 155,
     "metadata": {},
     "output_type": "execute_result"
    }
   ],
   "source": [
    "df_regional = df_billing[df_billing[\"Region/Category\"].isin([\"US\", \"Argentina\", \"Australia\", \"Spain\", \"United Kingdom\", \"New Zealand\", \"Brazil\"])]\n",
    "f\"Count of test cases by region: US-{df_regional[df_regional[\"Region/Category\"] == \"US\"][\"테스트 항목\"].count()}, Argentina-{df_regional[df_regional[\"Region/Category\"] == \"Argentina\"][\"테스트 항목\"].count()}, Spain-{df_regional[df_regional[\"Region/Category\"] == \"Spain\"][\"테스트 항목\"].count()}, United Kingdom-{df_regional[df_regional[\"Region/Category\"] == \"United Kingdom\"][\"테스트 항목\"].count()}, Australia-{df_regional[df_regional[\"Region/Category\"] == \"Australia\"][\"테스트 항목\"].count()}, Brazil-{df_regional[df_regional[\"Region/Category\"] == \"Brazil\"][\"테스트 항목\"].count()}\""
   ]
  },
  {
   "cell_type": "code",
   "execution_count": 166,
   "metadata": {},
   "outputs": [
    {
     "data": {
      "text/plain": [
       "array(['All Regions', 'Brazil'], dtype=object)"
      ]
     },
     "execution_count": 166,
     "metadata": {},
     "output_type": "execute_result"
    }
   ],
   "source": [
    "df_regional_consolidation[\"Region/Category\"].unique()"
   ]
  },
  {
   "cell_type": "code",
   "execution_count": 167,
   "metadata": {},
   "outputs": [
    {
     "data": {
      "text/plain": [
       "array(['Sign in', 'Sign Up', 'Sign Out', 'Find Password',\n",
       "       'Social Sign in', 'Social Sign up', 'Multi Profile Page', 'Home',\n",
       "       'Content Playble', 'KOAS', 'PLAN Page', 'Checkout Page',\n",
       "       'Checkout Page\\n(Coupon)', 'PLAN Purchasing', 'Cancel PLAN',\n",
       "       'Renewal Subscription', 'PLAN Change', 'SSO', 'QR Sign in',\n",
       "       'PLAN Cross', 'Resume PLAN'], dtype=object)"
      ]
     },
     "execution_count": 167,
     "metadata": {},
     "output_type": "execute_result"
    }
   ],
   "source": [
    "df_regional_consolidation.중분류.unique()"
   ]
  },
  {
   "cell_type": "code",
   "execution_count": 168,
   "metadata": {},
   "outputs": [
    {
     "name": "stdout",
     "output_type": "stream",
     "text": [
      "소분류 values for Sign in: [0]\n",
      "\n",
      "소분류 values for Sign Up: [0]\n",
      "\n",
      "소분류 values for Sign Out: [0]\n",
      "\n",
      "소분류 values for Find Password: [0]\n",
      "\n",
      "소분류 values for Social Sign in: ['Facebook' 'Google' 'Apple' 'ODK']\n",
      "\n",
      "소분류 values for Social Sign up: ['Facebook' 'Google' 'Apple' 'ODK']\n",
      "\n",
      "소분류 values for Multi Profile Page: ['Add Profile' 'Edit Profile' 'Delete Profile' 'Profile Change'\n",
      " 'PIN Locked']\n",
      "\n",
      "소분류 values for Home: ['Language Setting']\n",
      "\n",
      "소분류 values for Content Playble: [0 'KOBACO Policy']\n",
      "\n",
      "소분류 values for KOAS: [0 'SSO' 'Profile Change' 'KOCOWA ID']\n",
      "\n",
      "소분류 values for PLAN Page: ['Basic Monthly' 'Basic Annual' 'Premium Monthly' 'Premium Annual'\n",
      " 'Basic Month Single Pass' 'Basic Annual Single Pass'\n",
      " 'Premium Month Single Pass' 'Premium Annual Single Pass']\n",
      "\n",
      "소분류 values for Checkout Page: [0 'Basic Monthly' 'Basic Annual' 'Premium Monthly' 'Premium Annual'\n",
      " 'Basic Month Single Pass' 'Basic Annual Single Pass'\n",
      " 'Premium Month Single Pass' 'Premium Annual Single Pass' 'Basic Annuals']\n",
      "\n",
      "소분류 values for Checkout Page\n",
      "(Coupon): ['Basic Monthly' 'Basic Annual' 'Premium Monthly' 'Premium Annual'\n",
      " 'Basic Month Single Pass' 'Basic Annual Single Pass'\n",
      " 'Premium Month Single Pass' 'Premium Annual Single Pass']\n",
      "\n",
      "소분류 values for PLAN Purchasing: ['Basic Monthly' 'Basic Annual' 'Premium Monthly' 'Premium Annual'\n",
      " 'Basic Month Single Pass' 'Basic Annual Single Pass'\n",
      " 'Premium Month Single Pass' 'Premium Annual Single Pass']\n",
      "\n",
      "소분류 values for Cancel PLAN: [0 'Premium Monthly' 'Premium Annual' 'Premium Month Single Pass'\n",
      " 'Premium Annual Single Pass']\n",
      "\n",
      "소분류 values for Renewal Subscription: ['Basic Monthly' 'Basic Monthly Cancel Plan' 'Basic Annual'\n",
      " 'Basic Annual Cancel Plan' 'Premium Monthly'\n",
      " 'Premium Monthly Cancel Plan' 'Premium Annual'\n",
      " 'Premium Annual Cancel Plan' 'Basic Month Single Pass'\n",
      " 'Basic Annual Single Pass' 'Premium Month Single Pass'\n",
      " 'Premium Annual Single Pass']\n",
      "\n",
      "소분류 values for PLAN Change: ['Upgrade' 'Downgrade' 'Basic Month Single Pass'\n",
      " 'Basic Annual Single Pass' 'Premium Month Single Pass'\n",
      " 'Premium Annual Single Pass']\n",
      "\n",
      "소분류 values for SSO: ['Facebook' 'Google' 'Apple' 'ROKU']\n",
      "\n",
      "소분류 values for QR Sign in: [0]\n",
      "\n",
      "소분류 values for PLAN Cross: ['Basic Annual (Mobile) > Premium Monthly (TV)'\n",
      " 'Premium Monthly (TV) > Prermium Annual (Mobile)'\n",
      " 'Premium Monthly Mobile (Cancelled) > Premium Annual TV (Upgrade)']\n",
      "\n",
      "소분류 values for Resume PLAN: ['Premium Monthly' 'Premium Annual']\n",
      "\n"
     ]
    }
   ],
   "source": [
    "middle_layer_values = df_regional_consolidation.중분류.unique()\n",
    "for value in middle_layer_values:\n",
    "    lower_layer_values = df_regional_consolidation[df_regional_consolidation.중분류 == value].소분류.unique()\n",
    "    print(f\"소분류 values for {value}: {lower_layer_values}\")\n",
    "    print()"
   ]
  },
  {
   "cell_type": "code",
   "execution_count": 169,
   "metadata": {},
   "outputs": [],
   "source": [
    "df_regional_consolidation.to_csv(f\"data/{today}_processed_billing_test_cases.csv\", index=False)"
   ]
  },
  {
   "cell_type": "code",
   "execution_count": null,
   "metadata": {},
   "outputs": [],
   "source": []
  }
 ],
 "metadata": {
  "kernelspec": {
   "display_name": ".venv",
   "language": "python",
   "name": "python3"
  },
  "language_info": {
   "codemirror_mode": {
    "name": "ipython",
    "version": 3
   },
   "file_extension": ".py",
   "mimetype": "text/x-python",
   "name": "python",
   "nbconvert_exporter": "python",
   "pygments_lexer": "ipython3",
   "version": "3.13.2"
  }
 },
 "nbformat": 4,
 "nbformat_minor": 2
}
